{
  "nbformat": 4,
  "nbformat_minor": 0,
  "metadata": {
    "colab": {
      "provenance": [],
      "authorship_tag": "ABX9TyNoK7/bYQ1KXYzQf366edoL",
      "include_colab_link": true
    },
    "kernelspec": {
      "name": "python3",
      "display_name": "Python 3"
    },
    "language_info": {
      "name": "python"
    }
  },
  "cells": [
    {
      "cell_type": "markdown",
      "metadata": {
        "id": "view-in-github",
        "colab_type": "text"
      },
      "source": [
        "<a href=\"https://colab.research.google.com/github/vinumi7/TermDeposit/blob/main/GroupingFacesWithCount.ipynb\" target=\"_parent\"><img src=\"https://colab.research.google.com/assets/colab-badge.svg\" alt=\"Open In Colab\"/></a>"
      ]
    },
    {
      "cell_type": "code",
      "execution_count": null,
      "metadata": {
        "id": "jkCPl1tQaWFv"
      },
      "outputs": [],
      "source": [
        "import os\n",
        "import cv2\n",
        "import dlib\n",
        "import numpy as np\n",
        "from PIL import Image, ImageSequence\n",
        "from google.colab import drive"
      ]
    },
    {
      "cell_type": "code",
      "source": [
        "# Mount Google Drive\n",
        "drive.mount('/content/drive')\n"
      ],
      "metadata": {
        "colab": {
          "base_uri": "https://localhost:8080/"
        },
        "id": "MUEhu-UxagAJ",
        "outputId": "38461681-6aea-4e61-b3c4-7bb4409e0146"
      },
      "execution_count": null,
      "outputs": [
        {
          "output_type": "stream",
          "name": "stdout",
          "text": [
            "Mounted at /content/drive\n"
          ]
        }
      ]
    },
    {
      "cell_type": "code",
      "source": [
        "# Set folder paths\n",
        "input_folder = \"/content/drive/MyDrive/Group Photos\"  # Folder containing input group photos\n",
        "output_folder = \"/content/drive/MyDrive/extracted_group_faces\"  # Folder to save extracted faces\n",
        "os.makedirs(output_folder, exist_ok=True)"
      ],
      "metadata": {
        "id": "vckh8HYXajww"
      },
      "execution_count": null,
      "outputs": []
    },
    {
      "cell_type": "code",
      "source": [
        "# Initialize the Dlib face detector\n",
        "detector = dlib.get_frontal_face_detector()"
      ],
      "metadata": {
        "id": "s-3zpXWNbk7Y"
      },
      "execution_count": null,
      "outputs": []
    },
    {
      "cell_type": "code",
      "source": [
        "# Function to check face clarity using Laplacian variance\n",
        "def is_clear_face(face_img, threshold=100):\n",
        "    gray_face = cv2.cvtColor(face_img, cv2.COLOR_BGR2GRAY)\n",
        "    laplacian_var = cv2.Laplacian(gray_face, cv2.CV_64F).var()\n",
        "    return laplacian_var > threshold, laplacian_var  # Return clarity status and variance"
      ],
      "metadata": {
        "id": "SAqN5Y58bpF3"
      },
      "execution_count": null,
      "outputs": []
    },
    {
      "cell_type": "code",
      "source": [
        "# Function to process each image frame\n",
        "def process_frame(frame, file_name):\n",
        "    gray_frame = cv2.cvtColor(frame, cv2.COLOR_BGR2GRAY)\n",
        "    faces = detector(gray_frame)\n",
        "\n",
        "    # Create a separate folder for this image's extracted faces\n",
        "    image_name = os.path.splitext(file_name)[0]\n",
        "    image_output_folder = os.path.join(output_folder, image_name)\n",
        "    os.makedirs(image_output_folder, exist_ok=True)\n",
        "\n",
        "    clear_faces_count = 0\n",
        "\n",
        "    for i, face in enumerate(faces):\n",
        "        x, y, w, h = (face.left(), face.top(), face.width(), face.height())\n",
        "        face_img = frame[y:y+h, x:x+w]\n",
        "\n",
        "        is_clear, sharpness = is_clear_face(face_img)\n",
        "\n",
        "        if is_clear:\n",
        "            clear_faces_count += 1\n",
        "            face_gray = cv2.cvtColor(face_img, cv2.COLOR_BGR2GRAY)  # Convert face to grayscale\n",
        "            face_output_path = os.path.join(image_output_folder, f\"face_{i+1}.jpg\")\n",
        "            cv2.imwrite(face_output_path, face_gray)\n",
        "            print(f\"Saved grayscale clear face {i+1} from {file_name} (Sharpness: {sharpness:.2f}) to {image_output_folder}\")\n",
        "\n",
        "    print(f\"Image '{file_name}' has {clear_faces_count} clear face(s).\")\n",
        "\n",
        "    # Display results (optional)\n",
        "    for face in faces:\n",
        "        x, y, w, h = (face.left(), face.top(), face.width(), face.height())\n",
        "        cv2.rectangle(frame, (x, y), (x + w, y + h), (0, 255, 0), 2)"
      ],
      "metadata": {
        "id": "EBmAPB2Zb-YH"
      },
      "execution_count": null,
      "outputs": []
    },
    {
      "cell_type": "code",
      "source": [
        "# Process each image in the input folder\n",
        "for file_name in os.listdir(input_folder):\n",
        "    file_path = os.path.join(input_folder, file_name)\n",
        "\n",
        "    try:\n",
        "        if file_name.lower().endswith('.gif'):\n",
        "            with Image.open(file_path) as img:\n",
        "                for frame_number, frame in enumerate(ImageSequence.Iterator(img)):\n",
        "                    frame = cv2.cvtColor(np.array(frame.convert('RGB')), cv2.COLOR_RGB2BGR)\n",
        "                    process_frame(frame, file_name)\n",
        "\n",
        "        else:\n",
        "            original_img = cv2.imread(file_path)\n",
        "            if original_img is None:\n",
        "                print(f\"Skipping file {file_name} as it is not a valid image.\")\n",
        "                continue\n",
        "\n",
        "            process_frame(original_img, file_name)\n",
        "\n",
        "    except Exception as e:\n",
        "        print(f\"Failed to process {file_name}: {e}\")"
      ],
      "metadata": {
        "colab": {
          "base_uri": "https://localhost:8080/"
        },
        "id": "iAbYAovUfglk",
        "outputId": "8a5541b0-50d8-4994-a3d1-c9dcf3fea020"
      },
      "execution_count": null,
      "outputs": [
        {
          "output_type": "stream",
          "name": "stdout",
          "text": [
            "Saved grayscale clear face 1 from A.jpg (Sharpness: 174.95) to /content/drive/MyDrive/extracted_group_faces/A\n",
            "Saved grayscale clear face 2 from A.jpg (Sharpness: 209.66) to /content/drive/MyDrive/extracted_group_faces/A\n",
            "Saved grayscale clear face 3 from A.jpg (Sharpness: 1708.45) to /content/drive/MyDrive/extracted_group_faces/A\n",
            "Image 'A.jpg' has 3 clear face(s).\n",
            "Saved grayscale clear face 1 from B.jpg (Sharpness: 929.31) to /content/drive/MyDrive/extracted_group_faces/B\n",
            "Saved grayscale clear face 2 from B.jpg (Sharpness: 123.34) to /content/drive/MyDrive/extracted_group_faces/B\n",
            "Saved grayscale clear face 3 from B.jpg (Sharpness: 787.25) to /content/drive/MyDrive/extracted_group_faces/B\n",
            "Saved grayscale clear face 4 from B.jpg (Sharpness: 102.14) to /content/drive/MyDrive/extracted_group_faces/B\n",
            "Saved grayscale clear face 5 from B.jpg (Sharpness: 1496.50) to /content/drive/MyDrive/extracted_group_faces/B\n",
            "Image 'B.jpg' has 5 clear face(s).\n",
            "Saved grayscale clear face 1 from C.jpg (Sharpness: 164.17) to /content/drive/MyDrive/extracted_group_faces/C\n",
            "Saved grayscale clear face 2 from C.jpg (Sharpness: 264.41) to /content/drive/MyDrive/extracted_group_faces/C\n",
            "Saved grayscale clear face 4 from C.jpg (Sharpness: 172.64) to /content/drive/MyDrive/extracted_group_faces/C\n",
            "Image 'C.jpg' has 3 clear face(s).\n",
            "Saved grayscale clear face 1 from D.jpg (Sharpness: 391.66) to /content/drive/MyDrive/extracted_group_faces/D\n",
            "Saved grayscale clear face 2 from D.jpg (Sharpness: 426.95) to /content/drive/MyDrive/extracted_group_faces/D\n",
            "Image 'D.jpg' has 2 clear face(s).\n",
            "Saved grayscale clear face 1 from E.png (Sharpness: 210.15) to /content/drive/MyDrive/extracted_group_faces/E\n",
            "Saved grayscale clear face 2 from E.png (Sharpness: 288.69) to /content/drive/MyDrive/extracted_group_faces/E\n",
            "Saved grayscale clear face 3 from E.png (Sharpness: 581.61) to /content/drive/MyDrive/extracted_group_faces/E\n",
            "Image 'E.png' has 3 clear face(s).\n"
          ]
        }
      ]
    }
  ]
}